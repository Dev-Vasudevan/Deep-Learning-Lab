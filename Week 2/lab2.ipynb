{
 "cells": [
  {
   "cell_type": "markdown",
   "metadata": {},
   "source": [
    "## Q1"
   ]
  },
  {
   "cell_type": "code",
   "execution_count": 2,
   "metadata": {},
   "outputs": [
    {
     "name": "stdout",
     "output_type": "stream",
     "text": [
      "dz/da tensor(34.)\n"
     ]
    }
   ],
   "source": [
    "import torch\n",
    "\n",
    "a = torch.tensor(1.0, requires_grad=True)  \n",
    "b = torch.tensor(2.0, requires_grad=True)  \n",
    "\n",
    "x = 2*a + 3 * b\n",
    "y = 5*a**2 + 3 * b**3\n",
    "z = 2*x + 3 * y\n",
    "\n",
    "z.backward()\n",
    "print(\"dz/da\", a.grad)"
   ]
  },
  {
   "cell_type": "markdown",
   "metadata": {},
   "source": [
    "## Q2"
   ]
  },
  {
   "cell_type": "code",
   "execution_count": 3,
   "metadata": {},
   "outputs": [
    {
     "name": "stdout",
     "output_type": "stream",
     "text": [
      "Gradient tensor(2.)\n"
     ]
    }
   ],
   "source": [
    "w = torch.tensor(1.0, requires_grad=True)\n",
    "x = torch.tensor(2.0)\n",
    "b = torch.tensor(3.0)\n",
    "rel = torch.relu(w * x + b)\n",
    "rel.backward()\n",
    "w.grad"
   ]
  },
  {
   "cell_type": "markdown",
   "metadata": {},
   "source": [
    "## Q3"
   ]
  },
  {
   "cell_type": "code",
   "execution_count": 5,
   "metadata": {},
   "outputs": [
    {
     "name": "stdout",
     "output_type": "stream",
     "text": [
      "Gradient tensor(0.0133)\n"
     ]
    }
   ],
   "source": [
    "w = torch.tensor(1.0, requires_grad=True)\n",
    "x = torch.tensor(2.0)\n",
    "b = torch.tensor(3.0)\n",
    "sig = torch.sigmoid(w * x + b)\n",
    "sig.backward()\n",
    "w.grad"
   ]
  },
  {
   "cell_type": "markdown",
   "metadata": {},
   "source": [
    "## Q4"
   ]
  },
  {
   "cell_type": "code",
   "execution_count": 6,
   "metadata": {},
   "outputs": [
    {
     "data": {
      "text/plain": [
       "tensor(-0.0974)"
      ]
     },
     "execution_count": 6,
     "metadata": {},
     "output_type": "execute_result"
    }
   ],
   "source": [
    "x = torch.tensor(1.0, requires_grad=True)  \n",
    "f = torch.exp(-x**2 - 2*x - torch.sin(x))\n",
    "f.backward()\n",
    "x.grad"
   ]
  },
  {
   "cell_type": "markdown",
   "metadata": {},
   "source": [
    "## Q5"
   ]
  },
  {
   "cell_type": "code",
   "execution_count": 7,
   "metadata": {},
   "outputs": [
    {
     "data": {
      "text/plain": [
       "tensor(326.)"
      ]
     },
     "execution_count": 7,
     "metadata": {},
     "output_type": "execute_result"
    }
   ],
   "source": [
    "x=torch.tensor(2.0, requires_grad=True)\n",
    "y=8*x**4+3*x**3+7*x**2+6*x+3\n",
    "y.backward()\n",
    "x.grad"
   ]
  },
  {
   "cell_type": "markdown",
   "metadata": {},
   "source": [
    "## Q6"
   ]
  },
  {
   "cell_type": "code",
   "execution_count": 12,
   "metadata": {},
   "outputs": [
    {
     "name": "stdout",
     "output_type": "stream",
     "text": [
      "Intermediate values:\n",
      " a = 2.0, \n",
      " b = 0.9092974066734314,\n",
      " c = 2.199500322341919,\n",
      " d = 6.598501205444336,\n",
      " e = 2.0279510021209717\n"
     ]
    },
    {
     "data": {
      "text/plain": [
       "tensor(0.0266)"
      ]
     },
     "execution_count": 12,
     "metadata": {},
     "output_type": "execute_result"
    }
   ],
   "source": [
    "x = torch.tensor(1.0, requires_grad=True)  \n",
    "y = torch.tensor(2.0, requires_grad=True)  \n",
    "z = torch.tensor(3.0, requires_grad=True) \n",
    "\n",
    "a = 2 * x\n",
    "b = torch.sin(y)\n",
    "c = a / b if b != 0 else torch.tensor(0.0, requires_grad=True)\n",
    "d = c * z\n",
    "e = torch.log(1 + d) if (1 + d) > 0 else torch.tensor(0.0, requires_grad=True)\n",
    "f = torch.tanh(e)\n",
    "\n",
    "print(f\"Intermediate values:\\n a = {a}, \\n b = {b},\\n c = {c},\\n d = {d},\\n e = {e}\")\n",
    "f.backward()\n",
    "y.grad #df/dy"
   ]
  }
 ],
 "metadata": {
  "kernelspec": {
   "display_name": "custom",
   "language": "python",
   "name": "python3"
  },
  "language_info": {
   "codemirror_mode": {
    "name": "ipython",
    "version": 3
   },
   "file_extension": ".py",
   "mimetype": "text/x-python",
   "name": "python",
   "nbconvert_exporter": "python",
   "pygments_lexer": "ipython3",
   "version": "3.12.3"
  }
 },
 "nbformat": 4,
 "nbformat_minor": 2
}
